{
  "nbformat": 4,
  "nbformat_minor": 0,
  "metadata": {
    "colab": {
      "provenance": [],
      "authorship_tag": "ABX9TyP3+dSpdvwCHcJaXRDsAMTZ",
      "include_colab_link": true
    },
    "kernelspec": {
      "name": "python3",
      "display_name": "Python 3"
    },
    "language_info": {
      "name": "python"
    }
  },
  "cells": [
    {
      "cell_type": "markdown",
      "metadata": {
        "id": "view-in-github",
        "colab_type": "text"
      },
      "source": [
        "<a href=\"https://colab.research.google.com/github/marcin119a/PODSTAWY-UCZENIA-MASZYNOWEGO-W-PYTHONIE-/blob/main/UO_Podstawy_uczenia_maszynowego_Zajecia_0_1.ipynb\" target=\"_parent\"><img src=\"https://colab.research.google.com/assets/colab-badge.svg\" alt=\"Open In Colab\"/></a>"
      ]
    },
    {
      "cell_type": "markdown",
      "source": [
        "### Colab Google"
      ],
      "metadata": {
        "id": "n3cR6YXJPUcv"
      }
    },
    {
      "cell_type": "markdown",
      "source": [
        "Colab (skrót od Collaboratory) Google to bezpłatne środowisko notatnika interaktywnego, które umożliwia pisanie i wykonywanie kodu Pythona w przeglądarce internetowej. Colab został stworzony przez zespół Google Research i jest oparty na popularnym narzędziu o otwartym kodzie źródłowym Jupyter Notebook.\n",
        "\n",
        "Colab Google oferuje wiele funkcji, które czynią go atrakcyjnym dla programistów, naukowców danych i badaczy. Oto niektóre z głównych cech Colab:\n",
        "\n",
        "1. Środowisko GPU i TPU: Colab udostępnia dostęp do GPU (jednostek przetwarzania grafiki) i TPU (jednostek przetwarzania tensorów) na potrzeby obliczeń intensywnych. To jest szczególnie przydatne do zadań związanych z uczeniem maszynowym i głębokim uczeniem.\n",
        "\n",
        "2. Wykonywanie w chmurze: Kod w Colab jest wykonywany na serwerach Google w chmurze. Nie jest konieczne lokalne instalowanie oprogramowania ani sprzętu o dużej mocy obliczeniowej. Użytkownicy mogą korzystać z dużej mocy obliczeniowej oferowanej przez Google.\n",
        "\n",
        "3. Udostępnianie i współpraca: Można udostępniać notatniki Colab innym użytkownikom, umożliwiając współpracę w czasie rzeczywistym. Można również importować notatniki z GitHub i zapisywać je w usłudze Google Drive.\n",
        "\n",
        "4. Obsługa różnych języków i środowisk: Oprócz Pythona, Colab obsługuje wiele innych języków programowania, takich jak R, Julia i Scala. Ponadto, Colab zawiera wiele popularnych bibliotek i środowisk, takich jak TensorFlow, PyTorch, scikit-learn i wiele innych.\n",
        "\n",
        "5. Łatwa integracja z innymi usługami Google: Colab jest ściśle zintegrowany z innymi usługami Google, takimi jak Google Drive, Google Cloud Storage czy BigQuery. Umożliwia to wygodne importowanie i eksportowanie danych, korzystanie z plików w chmurze i wiele więcej.\n",
        "\n",
        "Colab Google jest używany przez programistów i naukowców danych do eksploracji danych, prototypowania algorytmów, trenowania modeli uczenia maszynowego, prowadzenia analizy danych i innych zadań obliczeniowych. Dostępność darmowej wersji Colab oraz jego zaawansowane funkcje sprawiają, że jest to popularne narzędzie w społeczności programistycznej."
      ],
      "metadata": {
        "id": "JOmrm_X_WiyY"
      }
    },
    {
      "cell_type": "markdown",
      "source": [
        "### Python"
      ],
      "metadata": {
        "id": "H9TBgv9NLPw2"
      }
    },
    {
      "cell_type": "markdown",
      "source": [
        "\n",
        "Python to interpretowany język programowania wysokiego poziomu, który został stworzony przez Guido van Rossuma i po raz pierwszy wydany w 1991 roku. Jego celem było zapewnienie czytelnej, klarownej i łatwej do zrozumienia składni, co czyni go idealnym dla początkujących programistów.\n",
        "\n",
        "Python jest ogólnego zastosowania i znajduje szerokie zastosowanie w różnych dziedzinach, takich jak programowanie webowe, analiza danych, sztuczna inteligencja, tworzenie oprogramowania naukowego i wiele innych. Jego popularność wynika z wielu czynników, takich jak czytelność kodu, bogactwo bibliotek i modułów, duża społeczność programistów oraz łatwość nauki.\n",
        "\n"
      ],
      "metadata": {
        "id": "AynU1ak-PMmU"
      }
    },
    {
      "cell_type": "markdown",
      "source": [
        "### Podstawowe i zaawansowane typy danych"
      ],
      "metadata": {
        "id": "msuqEIMnJZ8U"
      }
    },
    {
      "cell_type": "markdown",
      "source": [
        "Oto opis podstawowych i zaawansowanych typów danych w języku Python:\n",
        "\n",
        "1. Liczby całkowite (int): Typ danych int reprezentuje liczby całkowite, czyli liczby bez części dziesiętnej. Przykładowe operacje na liczbach całkowitych to dodawanie, odejmowanie, mnożenie, dzielenie oraz operacje logiczne.\n",
        "\n",
        "2. Liczby zmiennoprzecinkowe (float): Typ danych float reprezentuje liczby zmiennoprzecinkowe, czyli liczby z częścią dziesiętną. Przykładowe operacje na liczbach zmiennoprzecinkowych to obliczenia matematyczne, zaokrąglanie, konwersja między typami danych itp.\n",
        "\n",
        "3. Napisy (str): Typ danych str reprezentuje ciągi znaków, takie jak tekst. Można tworzyć napisy przy użyciu pojedynczych lub podwójnych cudzysłowów. Przykładowe operacje na napisach to konkatenacja (łączenie), indeksowanie, wycinanie, wyszukiwanie, zmiana wielkości liter, formatowanie itp.\n",
        "\n",
        "4. Listy (list): Typ danych list reprezentuje uporządkowane kolekcje elementów. Elementy w liście mogą mieć różne typy danych. Listy są mutowalne, co oznacza, że można zmieniać ich zawartość. Przykładowe operacje na listach to dodawanie elementów, usuwanie elementów, indeksowanie, wycinanie, sortowanie, iterowanie itp.\n",
        "\n",
        "5. Krotki (tuple): Typ danych tuple reprezentuje uporządkowane kolekcje elementów, podobnie jak listy. Jednak krotki są niemutowalne, co oznacza, że nie można zmieniać ich zawartości po ich utworzeniu. Przykładowe operacje na krotkach to indeksowanie, wycinanie, iterowanie itp.\n",
        "\n",
        "6. Słowniki (dict): Typ danych dict reprezentuje zbiory par klucz-wartość. Klucze w słowniku muszą być unikalne, a wartości mogą być dowolnego typu danych. Przykładowe operacje na słownikach to dodawanie elementów, usuwanie elementów, dostęp do wartości poprzez klucz, iterowanie po kluczach lub wartościach, sprawdzanie obecności klucza itp.\n",
        "\n",
        "7. Zbiory (set): Typ danych set reprezentuje nieuporządkowane zbiory unikalnych elementów. Zbiory nie przechowują duplikatów. Przykładowe operacje na zbiorach to dodawanie elementów, usuwanie elementów, operacje matematyczne takie jak suma, przecięcie, różnica, sprawdzanie przynależności itp.\n",
        "\n",
        "8. Tuple (krotki) nazwane (namedtuple): Tuple nazwane to rozszerzenie krotek, które mają nazwane pola. Pozwalają one na tworzenie struktur danych o zdefiniowanych pol"
      ],
      "metadata": {
        "id": "ev0AZbLJKSRO"
      }
    },
    {
      "cell_type": "markdown",
      "source": [
        "### Deklarowanie zmiennych\n",
        "\n",
        "Zadanie: Deklarowanie zmiennych w Pythonie\n",
        "\n",
        "Opis zadania:\n",
        "Napisz program, który będzie zawierał różne deklaracje zmiennych w Pythonie. Program powinien zawierać następujące czynności:\n",
        "\n",
        "1. Deklarowanie zmiennych liczbowych:\n",
        "   - Zadeklaruj zmienną całkowitą o nazwie \"liczba_calkowita\" i przypisz jej dowolną wartość całkowitą. \n",
        "   - Zadeklaruj zmienną zmiennoprzecinkową o nazwie \"liczba_zmiennoprzecinkowa\" i przypisz jej dowolną wartość zmiennoprzecinkową.\n",
        "   - Wyświetl na ekranie wartości obu zmiennych.\n",
        "\n",
        "2. Deklarowanie zmiennych tekstowych:\n",
        "   - Zadeklaruj zmienną tekstową o nazwie \"tekst\" i przypisz jej dowolny napis.\n",
        "   - Zadeklaruj zmienną typu łańcuchowego (string) o nazwie \"imie\" i przypisz jej swoje imię.\n",
        "   - Wyświetl na ekranie wartości obu zmiennych.\n",
        "\n",
        "3. Deklarowanie zmiennych logicznych:\n",
        "   - Zadeklaruj zmienną logiczną o nazwie \"prawda\" i przypisz jej wartość True.\n",
        "   - Zadeklaruj zmienną logiczną o nazwie \"falsz\" i przypisz jej wartość False.\n",
        "   - Wyświetl na ekranie wartości obu zmiennych.\n",
        "\n",
        "4. Deklarowanie zmiennych jako puste (None):\n",
        "   - Zadeklaruj zmienną o nazwie \"pusta\" i przypisz jej wartość None.\n",
        "   - Wyświetl na ekranie wartość zmiennej.\n",
        "\n",
        "Podpowiedź: W Pythonie nie ma potrzeby jawnego określania typu zmiennej przy jej deklaracji.\n",
        "\n",
        "\n",
        "\n",
        "Wynik:\n",
        "```\n",
        "Liczba całkowita: 42\n",
        "Liczba zmiennoprzecinkowa: 3.14\n",
        "Tekst: To jest przykładowy tekst\n",
        "Imię: Jan\n",
        "Prawda: True\n",
        "Fałsz: False\n",
        "Zmienna pusta: None\n",
        "```\n",
        "\n"
      ],
      "metadata": {
        "id": "4rTUfDXgKONG"
      }
    },
    {
      "cell_type": "markdown",
      "source": [
        "Rozwiazanie w Pythonie"
      ],
      "metadata": {
        "id": "tB_8XVqfMQbh"
      }
    },
    {
      "cell_type": "code",
      "source": [
        "\n",
        "liczba_calkowita = 42\n",
        "liczba_zmiennoprzecinkowa = 3.14\n",
        "print(\"Liczba całkowita:\", liczba_calkowita)\n",
        "print(\"Liczba zmiennoprzecinkowa:\", liczba_zmiennoprzecinkowa)\n",
        "\n",
        "tekst = \"To jest przykładowy tekst\"\n",
        "imie = \"Jan\"\n",
        "print(\"Tekst:\", tekst)\n",
        "print(\"Imię:\", imie)\n",
        "\n",
        "prawda = True\n",
        "falsz = False\n",
        "print(\"Prawda:\", prawda)\n",
        "print(\"Fałsz:\", falsz)\n",
        "\n",
        "pusta = None\n",
        "print(\"Zmienna pusta:\", pusta)\n"
      ],
      "metadata": {
        "id": "VptsBJ8rMOUk"
      },
      "execution_count": null,
      "outputs": []
    },
    {
      "cell_type": "markdown",
      "source": [
        "### Zadanie: Wyświetlanie komunikatów i formatowanie napisów\n",
        "\n",
        "Opis zadania:\n",
        "Napisz program, który będzie wyświetlał różne komunikaty na ekranie i będzie wykorzystywał formatowanie napisów. Program powinien zawierać następujące czynności:\n",
        "\n",
        "1. Wyświetlanie prostego komunikatu:\n",
        "   - Wyświetl na ekranie komunikat powitalny, np. \"Witaj w programie wyświetlającym komunikaty!\".\n",
        "\n",
        "2. Wyświetlanie komunikatu z wartościami zmiennych:\n",
        "   - Zadeklaruj dwie zmienne, np. \"imie\" i \"wiek\", i przypisz im odpowiednie wartości.\n",
        "   - Wyświetl komunikat zawierający wartości tych zmiennych, np. \"Cześć, nazywam się {imie} i mam {wiek} lat.\"\n",
        "\n",
        "3. Formatowanie napisów:\n",
        "   - Zadeklaruj zmienną, np. \"kwota\", i przypisz jej wartość liczbową, np. 127.56.\n",
        "   - Wyświetl komunikat, który sformatuje wartość zmiennej \"kwota\" do dwóch miejsc po przecinku, np. \"Wartość to: 127.56 zł\".\n",
        "\n",
        "4. Wykorzystanie różnych metod formatowania:\n",
        "   - Zadeklaruj zmienną, np. \"produkt\", i przypisz jej wartość tekstu, np. \"telewizor\".\n",
        "   - Wyświetl komunikat, który będzie łączył tekst z wartościami zmiennych w różny sposób, np. \"Dziś kupiłem sobie nowy {produkt} za {kwota:.2f} zł.\".\n",
        "\n",
        "Podpowiedź: Do formatowania napisów w Pythonie można użyć operatora %, metody format() lub f-stringów.\n",
        "\n",
        "Rozwiązanie w Pythonie:\n",
        "\n",
        "Wynik:\n",
        "```\n",
        "Witaj w programie wyświetlającym komunikaty!\n",
        "Cześć, nazywam się Jan i mam 25 lat.\n",
        "Wartość to: 127.56 zł\n",
        "Dziś kupiłem sobie nowy telewizor za 127.56 zł.\n",
        "```"
      ],
      "metadata": {
        "id": "sfiiERthKWHD"
      }
    },
    {
      "cell_type": "code",
      "source": [
        "imie = \"Jan\"\n",
        "wiek = 25\n",
        "kwota = 127.56\n",
        "produkt = \"telewizor\"\n",
        "\n",
        "print(\"Witaj w programie wyświetlającym komunikaty!\")\n",
        "\n",
        "print(\"Cześć, nazywam się %s i mam %d lat.\" % (imie, wiek))\n",
        "\n",
        "print(\"Wartość to: %.2f zł\" % kwota)\n",
        "\n",
        "print(f\"Dziś kupiłem sobie nowy {produkt} za {kwota:.2f} zł.\")"
      ],
      "metadata": {
        "id": "5m6zXkUcLL0a"
      },
      "execution_count": null,
      "outputs": []
    },
    {
      "cell_type": "markdown",
      "source": [
        "### Zadanie listy"
      ],
      "metadata": {
        "id": "yhQLuM8SMwg4"
      }
    },
    {
      "cell_type": "markdown",
      "source": [
        "Zadanie: Deklaracja listy w Pythonie\n",
        "\n",
        "Opis zadania:\n",
        "Napisz program, który będzie zawierał deklarację listy w Pythonie. Program powinien zawierać następujące czynności:\n",
        "\n",
        "1. Deklaracja i inicjalizacja listy:\n",
        "   - Zadeklaruj listę o nazwie \"moja_lista\".\n",
        "   - Dodaj do listy kilka dowolnych elementów, np. liczby całkowite, napisy lub wartości logiczne.\n",
        "   - Wyświetl na ekranie zawartość listy.\n",
        "\n",
        "2. Modyfikacja elementów listy:\n",
        "   - Zmodyfikuj wartość jednego z elementów listy.\n",
        "   - Wyświetl na ekranie zaktualizowaną zawartość listy.\n",
        "\n",
        "3. Dodawanie elementów do listy:\n",
        "   - Dodaj nowy element na koniec listy.\n",
        "   - Wyświetl na ekranie zaktualizowaną zawartość listy.\n",
        "\n",
        "4. Usuwanie elementów z listy:\n",
        "   - Usuń jeden z elementów z listy.\n",
        "   - Wyświetl na ekranie zaktualizowaną zawartość listy.\n",
        "\n",
        "Rozwiązanie w Pythonie:\n",
        "```python\n",
        "moja_lista = [1, 2, \"trzy\", True]\n",
        "print(\"Zawartość listy:\", moja_lista)\n",
        "\n",
        "moja_lista[2] = \"trzeci\"\n",
        "print(\"Zaktualizowana zawartość listy:\", moja_lista)\n",
        "\n",
        "moja_lista.append(4)\n",
        "print(\"Zaktualizowana zawartość listy (po dodaniu elementu):\", moja_lista)\n",
        "\n",
        "moja_lista.remove(\"trzeci\")\n",
        "print(\"Zaktualizowana zawartość listy (po usunięciu elementu):\", moja_lista)\n",
        "```\n",
        "\n",
        "Przykładowy wynik:\n",
        "```\n",
        "Zawartość listy: [1, 2, 'trzy', True]\n",
        "Zaktualizowana zawartość listy: [1, 2, 'trzeci', True]\n",
        "Zaktualizowana zawartość listy (po dodaniu elementu): [1, 2, 'trzeci', True, 4]\n",
        "Zaktualizowana zawartość listy (po usunięciu elementu): [1, 2, True, 4]\n",
        "```"
      ],
      "metadata": {
        "id": "o0plsy7hNj0h"
      }
    },
    {
      "cell_type": "markdown",
      "source": [
        "Zadanie: Operacje na listach\n",
        "\n",
        "Opis zadania:\n",
        "Napisz program, który będzie wykonywał różne operacje na listach w Pythonie. Program powinien zawierać następujące czynności:\n",
        "\n",
        "1. Tworzenie listy:\n",
        "   - Zadeklaruj pustą listę o nazwie \"lista\".\n",
        "   - Poproś użytkownika o wprowadzenie kilku liczb całkowitych i dodaj je do listy.\n",
        "   - Wyświetl na ekranie zawartość listy.\n",
        "\n",
        "2. Sumowanie elementów listy:\n",
        "   - Oblicz sumę wszystkich elementów z listy.\n",
        "   - Wyświetl na ekranie wynik.\n",
        "\n",
        "3. Sortowanie listy:\n",
        "   - Posortuj elementy listy w kolejności rosnącej.\n",
        "   - Wyświetl na ekranie posortowaną listę.\n",
        "\n",
        "4. Wyszukiwanie elementu w liście:\n",
        "   - Poproś użytkownika o wprowadzenie liczby całkowitej do wyszukania.\n",
        "   - Sprawdź, czy ta liczba znajduje się w liście.\n",
        "   - Wyświetl na ekranie odpowiedni komunikat.\n",
        "\n",
        "5. Usuwanie elementów z listy:\n",
        "   - Poproś użytkownika o wprowadzenie liczby całkowitej do usunięcia.\n",
        "   - Jeśli ta liczba znajduje się w liście, usuń ją.\n",
        "   - Wyświetl na ekranie zaktualizowaną listę.\n",
        "\n",
        "Podpowiedź: Do dodawania elementów do listy można użyć metody append(), a do usunięcia elementów - metody remove() lub del.\n",
        "\n",
        "Rozwiązanie w Pythonie:\n",
        "```python\n",
        "lista = []\n",
        "liczby = input(\"Wprowadź kilka liczb całkowitych, oddzielając je spacjami: \").split()\n",
        "\n",
        "for liczba in liczby:\n",
        "    lista.append(int(liczba))\n",
        "\n",
        "print(\"Zawartość listy:\", lista)\n",
        "\n",
        "suma = sum(lista)\n",
        "print(\"Suma elementów:\", suma)\n",
        "\n",
        "lista.sort()\n",
        "print(\"Posortowana lista:\", lista)\n",
        "\n",
        "liczba_do_wyszukania = int(input(\"Wprowadź liczbę do wyszukania: \"))\n",
        "if liczba_do_wyszukania in lista:\n",
        "    print(\"Liczba znajduje się w liście.\")\n",
        "else:\n",
        "    print(\"Liczba nie znajduje się w liście.\")\n",
        "\n",
        "liczba_do_usuniecia = int(input(\"Wprowadź liczbę do usunięcia: \"))\n",
        "if liczba_do_usuniecia in lista:\n",
        "    lista.remove(liczba_do_usuniecia)\n",
        "    print(\"Zaktualizowana lista po usunięciu elementu:\", lista)\n",
        "else:\n",
        "    print(\"Liczba nie występuje w liście.\")\n",
        "```\n",
        "\n",
        "Przykładowy wynik:\n",
        "```\n",
        "Wprowadź kilka liczb całkowitych, oddzielając je spacjami: 5 2 8 1\n",
        "Zawartość listy: [5, 2, 8, 1]\n",
        "Suma elementów: 16\n",
        "Posortowana lista: [1, 2, 5, 8]\n",
        "Wprowadź liczbę do wyszukania: 5\n",
        "Liczba znajduje się w liście.\n",
        "Wp"
      ],
      "metadata": {
        "id": "NCyghRK5N0Xx"
      }
    },
    {
      "cell_type": "code",
      "source": [
        "lista = []\n",
        "liczby = input(\"Wprowadź kilka liczb całkowitych, oddzielając je spacjami: \").split()\n",
        "\n",
        "for liczba in liczby:\n",
        "    lista.append(int(liczba))\n",
        "\n",
        "print(\"Zawartość listy:\", lista)\n",
        "\n",
        "suma = sum(lista)\n",
        "print(\"Suma elementów:\", suma)\n",
        "\n",
        "lista.sort()\n",
        "print(\"Posortowana lista:\", lista)\n",
        "\n",
        "liczba_do_wyszukania = int(input(\"Wprowadź liczbę do wyszukania: \"))\n",
        "if liczba_do_wyszukania in lista:\n",
        "    print(\"Liczba znajduje się w liście.\")\n",
        "else:\n",
        "    print(\"Liczba nie znajduje się w liście.\")\n",
        "\n",
        "liczba_do_usuniecia = int(input(\"Wprowadź liczbę do usunięcia: \"))\n",
        "if liczba_do_usuniecia in lista:\n",
        "    lista.remove(liczba_do_usuniecia)\n",
        "    print(\"Zaktualizowana lista po usunięciu elementu:\", lista)\n",
        "else:\n",
        "    print(\"Liczba nie występuje w liście.\")\n"
      ],
      "metadata": {
        "colab": {
          "base_uri": "https://localhost:8080/"
        },
        "id": "V6-w4UfYMxCa",
        "outputId": "467c6ec2-d2f1-411a-ebaf-86bb6d96d3cb"
      },
      "execution_count": null,
      "outputs": [
        {
          "output_type": "stream",
          "name": "stdout",
          "text": [
            "Wprowadź kilka liczb całkowitych, oddzielając je spacjami: 1 2 3 4 5\n",
            "Zawartość listy: [1, 2, 3, 4, 5]\n",
            "Suma elementów: 15\n",
            "Posortowana lista: [1, 2, 3, 4, 5]\n",
            "Wprowadź liczbę do wyszukania: 5\n",
            "Liczba znajduje się w liście.\n",
            "Wprowadź liczbę do usunięcia: 4\n",
            "Zaktualizowana lista po usunięciu elementu: [1, 2, 3, 5]\n"
          ]
        }
      ]
    }
  ]
}